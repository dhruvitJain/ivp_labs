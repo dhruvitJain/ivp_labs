{
 "cells": [
  {
   "cell_type": "code",
   "execution_count": 37,
   "metadata": {},
   "outputs": [],
   "source": [
    "import cv2\n",
    "import matplotlib.pyplot as plt\n",
    "import numpy as np\n",
    "import glob\n",
    "import io"
   ]
  },
  {
   "cell_type": "code",
   "execution_count": 38,
   "metadata": {},
   "outputs": [],
   "source": [
    "vid = cv2.VideoCapture ('globe.mp4')"
   ]
  },
  {
   "cell_type": "code",
   "execution_count": 39,
   "metadata": {},
   "outputs": [],
   "source": [
    "i=0 \n",
    "ret = 1\n",
    "while ret:\n",
    "    ret, frame = vid.read ()\n",
    "    if ret == False:\n",
    "        break\n",
    "    else:\n",
    "        cv2.imwrite ('C:\\\\Users\\\\dhruv\\\\Desktop\\\\College\\\\NOTES\\\\IVP\\\\Labs\\\\12\\\\frames\\\\frame%d.jpg' %i ,frame)\n",
    "        i+=1\n",
    "        "
   ]
  },
  {
   "cell_type": "code",
   "execution_count": 40,
   "metadata": {},
   "outputs": [
    {
     "name": "stdout",
     "output_type": "stream",
     "text": [
      "(270, 480)\n"
     ]
    }
   ],
   "source": [
    "start_fr = int (i/3)\n",
    "stop_fr = int (i/2)\n",
    "\n",
    "img = cv2.imread ('.\\\\frames\\\\frame0.jpg',0)\n",
    "sh = img.shape\n",
    "print (sh)"
   ]
  },
  {
   "cell_type": "code",
   "execution_count": 47,
   "metadata": {},
   "outputs": [],
   "source": [
    "start_row = int (sh[0]*0.3)\n",
    "stop_row = int (sh[0]*0.5)\n",
    "start_col = int (sh[1]*0.3)\n",
    "stop_col = int (sh[1]*0.5)"
   ]
  },
  {
   "cell_type": "code",
   "execution_count": 52,
   "metadata": {},
   "outputs": [],
   "source": [
    "for j in range(start_fr,stop_fr):\n",
    "  img=cv2.imread('C:\\\\Users\\\\dhruv\\\\Desktop\\\\College\\\\NOTES\\\\IVP\\\\Labs\\\\12\\\\frames\\\\frame%d.jpg' %j)\n",
    "  img[start_row:stop_row,start_col:stop_col]=255\n",
    "\n",
    "\n",
    "  cv2.imwrite('C:\\\\Users\\\\dhruv\\\\Desktop\\\\College\\\\NOTES\\\\IVP\\\\Labs\\\\12\\\\frames\\\\frame%d.jpg' %j,img)\n",
    "\n",
    "vid.release()\n",
    "cv2.destroyAllWindows()"
   ]
  },
  {
   "cell_type": "code",
   "execution_count": 59,
   "metadata": {},
   "outputs": [],
   "source": [
    "img_vid = []\n",
    "for filen in glob.glob ('C:\\\\Users\\\\dhruv\\\\Desktop\\\\College\\\\NOTES\\\\IVP\\\\Labs\\\\12\\\\frames\\\\frame*.jpg'):\n",
    "    img = cv2.imread (filen)\n",
    "    height, width, layers = img.shape\n",
    "    size = (width,height)\n",
    "    img_vid.append (img)\n"
   ]
  },
  {
   "cell_type": "code",
   "execution_count": 60,
   "metadata": {},
   "outputs": [],
   "source": [
    "out = cv2.VideoWriter('new_video.avi',cv2.VideoWriter_fourcc(*'DIVX'), 30, size)\n",
    "\n",
    "for i in range(len(img_vid)):\n",
    "    # writing to a image array\n",
    "    out.write(img_vid[i])\n",
    "out.release()"
   ]
  },
  {
   "cell_type": "markdown",
   "metadata": {},
   "source": [
    "1. For video processing the user can identify the frames to be modified and extract those identified frames for modification.\n",
    "2. After modifying the frames a new video can be created using the frames.\n",
    "3. Various image processing techniques can be used to modify the frames.\n",
    "4. In the given experiment, a white patch is added to some frames in the video"
   ]
  }
 ],
 "metadata": {
  "kernelspec": {
   "display_name": "Python 3",
   "language": "python",
   "name": "python3"
  },
  "language_info": {
   "codemirror_mode": {
    "name": "ipython",
    "version": 3
   },
   "file_extension": ".py",
   "mimetype": "text/x-python",
   "name": "python",
   "nbconvert_exporter": "python",
   "pygments_lexer": "ipython3",
   "version": "3.7.4"
  }
 },
 "nbformat": 4,
 "nbformat_minor": 4
}
